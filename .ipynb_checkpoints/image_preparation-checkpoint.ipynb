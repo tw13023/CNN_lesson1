{
 "cells": [
  {
   "cell_type": "code",
   "execution_count": 84,
   "metadata": {
    "collapsed": true
   },
   "outputs": [],
   "source": [
    "import os \n",
    "from os import walk\n",
    "import shutil"
   ]
  },
  {
   "cell_type": "code",
   "execution_count": 85,
   "metadata": {
    "collapsed": true
   },
   "outputs": [],
   "source": [
    "object_type = ['bird','butterfly']\n",
    "\n",
    "train_dest_path = '/Users/davechou/fastai_projects/CNN_lesson1/birdbutterfly/train/'\n",
    "valid_dest_path = '/Users/davechou/fastai_projects/CNN_lesson1/birdbutterfly/valid/'"
   ]
  },
  {
   "cell_type": "code",
   "execution_count": 92,
   "metadata": {},
   "outputs": [],
   "source": [
    "for name in object_type :\n",
    "    object_sourc_path='/Users/davechou/fastai_projects/CNN_lesson1/dataset/'+name+'/'\n",
    "    object_train_dest_path=train_dest_path +name+'/'\n",
    "    object_valid_dest_path=valid_dest_path +name+'/'\n",
    "    f = []\n",
    "    for (dirpath, dirnames, filenames) in walk(object_sourc_path):\n",
    "        f.extend(filenames)\n",
    "    valid_len = len(f)//5\n",
    "    train_len = len(f)-valid_len\n",
    "    #move image to train folder\n",
    "    for i in range(train_len):\n",
    "        shutil.move(object_sourc_path+f[i],object_train_dest_path+f[i])\n",
    "    #move image to valid folder\n",
    "    for i in range(train_len,len(f)):\n",
    "        shutil.move(object_sourc_path+f[i],object_valid_dest_path+f[i])\n",
    "    \n",
    "    "
   ]
  },
  {
   "cell_type": "code",
   "execution_count": null,
   "metadata": {
    "collapsed": true
   },
   "outputs": [],
   "source": []
  }
 ],
 "metadata": {
  "kernelspec": {
   "display_name": "Python 3",
   "language": "python",
   "name": "python3"
  },
  "language_info": {
   "codemirror_mode": {
    "name": "ipython",
    "version": 3
   },
   "file_extension": ".py",
   "mimetype": "text/x-python",
   "name": "python",
   "nbconvert_exporter": "python",
   "pygments_lexer": "ipython3",
   "version": "3.6.2"
  }
 },
 "nbformat": 4,
 "nbformat_minor": 2
}
